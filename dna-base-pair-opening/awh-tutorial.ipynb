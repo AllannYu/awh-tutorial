{
 "cells": [
  {
   "cell_type": "markdown",
   "metadata": {},
   "source": [
    "# Calculating PMFs with AWH in GROMACS\n",
    "Here we learn how to calculate the potential of mean force\n",
    "(PMF) along a reaction coordinate (RC) using the accelerated weight\n",
    "histogram method (AWH) in GROMACS.  We will go through both how to set\n",
    "up the input files needed, as well as how to extract and analyze the\n",
    "output after having run the simulation. For more information about For more information about\n",
    "theory of the AWH method itself we refer to \\cite{}[TODO].  What you need to\n",
    "know right now is that AWH applies a time-dependent bias\n",
    "potential along the chosen RC, which is tuned during the simulation\n",
    "such that it \"flattens\" the barriers in the PMF to improve sampling along the RC.\n",
    "With better sampling, the PMF can be calculated more accurately than using unbiased MD.\n",
    "\n",
    "*Author: Viveca Lindahl   \n",
    "Email: vivecal@kth.se*\n",
    "\n",
    "## The case study: DNA base pair opening\n",
    "We will calculate the PMF for opening a DNA base\n",
    "pair. The DNA double helix is a very stable structure. Opening a base pair\n",
    "requires breaking hydrogen bonds between the bases and crossing a high free energy\n",
    "barrier.  That's why we need to enhance the sampling by applying a bias!\n",
    "<img src=\"figs/dna-helix.png\" alt=\"dna\" style=\"height: 300px;\"/>\n",
    "As our RC we use the distance between the two atoms forming the central hydrogen-bond the two bases in a pair. Let's have a look at the system and the reaction coordinate using VMD. The `-e` flag below tells VMD to excute the commands that are in the following tcl-script. These commands change how the system is visually represented. For instance, we have hidden all the water to better see the DNA itself, and we have put nice colors on the atoms defining the RC of our target base pair. Now run:"
   ]
  },
  {
   "cell_type": "code",
   "execution_count": 4,
   "metadata": {},
   "outputs": [
    {
     "name": "stdout",
     "output_type": "stream",
     "text": [
      "/usr/local/lib/vmd/vmd_LINUXAMD64: /usr/lib/nvidia-384/libGL.so.1: no version information available (required by /usr/local/lib/vmd/vmd_LINUXAMD64)\n",
      "Info) VMD for LINUXAMD64, version 1.9.3 (November 30, 2016)\n",
      "Info) http://www.ks.uiuc.edu/Research/vmd/                         \n",
      "Info) Email questions and bug reports to vmd@ks.uiuc.edu           \n",
      "Info) Please include this reference in published work using VMD:   \n",
      "Info)    Humphrey, W., Dalke, A. and Schulten, K., `VMD - Visual   \n",
      "Info)    Molecular Dynamics', J. Molec. Graphics 1996, 14.1, 33-38.\n",
      "Info) -------------------------------------------------------------\n",
      "Info) Multithreading available, 8 CPUs detected.\n",
      "Info)   CPU features: SSE2 AVX AVX2 FMA \n",
      "Info) Free system memory: 10GB (65%)\n",
      "Info) Creating CUDA device pool and initializing hardware...\n",
      "Info) Detected 1 available CUDA accelerator:\n",
      "Info) [0] GeForce GTX 760     6 SM_3.0 @ 1.07 GHz, 1.9GB RAM, KTO, AE1, ZCP\n",
      "Warning) Detected X11 'Composite' extension: if incorrect display occurs\n",
      "Warning) try disabling this X server option.  Most OpenGL drivers\n",
      "Warning) disable stereoscopic display when 'Composite' is enabled.\n",
      "Info) OpenGL renderer: GeForce GTX 760/PCIe/SSE2\n",
      "Info)   Features: STENCIL MSAA(4) MDE CVA MTX NPOT PP PS GLSL(OVFGS) \n",
      "Info)   Full GLSL rendering mode is available.\n",
      "Info)   Textures: 2-D (16384x16384), 3-D (2048x2048x2048), Multitexture (4)\n",
      "Info) Detected 1 available TachyonL/OptiX ray tracing accelerator\n",
      "Info)   Compiling 1 OptiX shaders on 1 target GPU...\n",
      "Info) Dynamically loaded 2 plugins in directory:\n",
      "Info) /usr/local/lib/vmd/plugins/LINUXAMD64/molfile\n",
      "Info) File loading in progress, please wait.\n",
      "Info) Using plugin gro for structure file visualization/dna-centered.gro\n",
      "Info) Using plugin gro for coordinates from file visualization/dna-centered.gro\n",
      "Info) Determining bond structure from distance search ...\n",
      "Info) Finished with coordinate file visualization/dna-centered.gro.\n",
      "Info) Analyzing structure ...\n",
      "Info)    Atoms: 9365\n",
      "Info)    Bonds: 6735\n",
      "Info)    Angles: 0  Dihedrals: 0  Impropers: 0  Cross-terms: 0\n",
      "Info)    Bondtypes: 0  Angletypes: 0  Dihedraltypes: 0  Impropertypes: 0\n",
      "Info)    Residues: 2770\n",
      "Info)    Waters: 2688\n",
      "Warning) Unusual bond between residues:  1 (nucleic) and 20 (none)\n",
      "Warning) Unusual bond between residues:  21 (nucleic) and 40 (none)\n",
      "Info)    Segments: 1\n",
      "Info)    Fragments: 2730   Protein: 0   Nucleic: 2\n",
      "vmd > 0\n",
      "23\n",
      "1\n",
      "7\n",
      "16\n",
      "2\n",
      "6\n",
      "8\n",
      "27\n",
      "2\n",
      "6\n",
      "0\n",
      "0\n",
      "1\n",
      "2\n",
      "Type 'user add key Control-c {my VMD commands...}' to use this key\n",
      "Type 'user add key Control-c {my VMD commands...}' to use this key\n",
      "Type 'user add key Control-c {my VMD commands...}' to use this key\n",
      "Info) VMD for LINUXAMD64, version 1.9.3 (November 30, 2016)\n",
      "Info) Exiting normally.\n"
     ]
    }
   ],
   "source": [
    "!vmd visualization/dna-centered.gro -e visualization/representation.tcl"
   ]
  },
  {
   "cell_type": "markdown",
   "metadata": {},
   "source": [
    "Now quit VMD using through the \"VMD Main\" window (\"Quit\" under the \"File\" tab)"
   ]
  },
  {
   "cell_type": "code",
   "execution_count": null,
   "metadata": {},
   "outputs": [],
   "source": []
  }
 ],
 "metadata": {
  "kernelspec": {
   "display_name": "Python 2",
   "language": "python",
   "name": "python2"
  },
  "language_info": {
   "codemirror_mode": {
    "name": "ipython",
    "version": 2
   },
   "file_extension": ".py",
   "mimetype": "text/x-python",
   "name": "python",
   "nbconvert_exporter": "python",
   "pygments_lexer": "ipython2",
   "version": "2.7.15"
  }
 },
 "nbformat": 4,
 "nbformat_minor": 2
}
