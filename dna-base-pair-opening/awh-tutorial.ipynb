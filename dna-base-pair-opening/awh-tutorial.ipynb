{
 "cells": [
  {
   "cell_type": "markdown",
   "metadata": {},
   "source": [
    "# Calculating PMFs with AWH in GROMACS <a id='another_cell'></a>\n",
    "Here we learn how to calculate the potential of mean force\n",
    "(PMF) along a reaction coordinate (RC) using the accelerated weight\n",
    "histogram method (AWH) in GROMACS.  We will go through both how to set\n",
    "up the input files needed, as well as how to extract and analyze the\n",
    "output after having run the simulation. For more information about\n",
    "the AWH method itself and how it can be used we refer to \\cite{}[TODO how cite?].\n",
    "What you need to know right now is that AWH applies a time-dependent bias\n",
    "potential along the chosen RC, which is tuned during the simulation\n",
    "such that it \"flattens\" the barriers in the PMF to improve sampling along the RC.\n",
    "With better sampling, the PMF can be calculated more accurately than using unbiased MD. [TODO Movie/figure?]\n",
    "\n",
    "*Author: Viveca Lindahl   \n",
    "Email: vivecal@kth.se*\n",
    "\n",
    "## The case study: DNA base pair opening\n",
    "We will calculate a PMF for opening a DNA base\n",
    "pair. The DNA double helix is a very stable structure. Opening a base pair\n",
    "requires breaking hydrogen bonds between the bases and crossing a high free energy\n",
    "barrier.  That's why we need to enhance the sampling by applying a bias!\n",
    "<img src=\"figs/dna-helix.png\" alt=\"dna\" style=\"height: 300px;\"/>\n",
    "As our RC we use the distance between the two atoms forming the central hydrogen-bond the two bases in a pair. Let's have a look at the system and the reaction coordinate using VMD. The `-e` flag below tells VMD to excute the commands that are in the following tcl-script. These commands change how the system is visually represented. For instance, we have hidden all the water to better see the DNA itself, and we have put punchy colors on the atoms defining the RC of our target base pair. Now run this and VMD should pop up:"
   ]
  },
  {
   "cell_type": "code",
   "execution_count": 1,
   "metadata": {},
   "outputs": [
    {
     "name": "stdout",
     "output_type": "stream",
     "text": [
      "/usr/local/lib/vmd/vmd_LINUXAMD64: /usr/lib/nvidia-384/libGL.so.1: no version information available (required by /usr/local/lib/vmd/vmd_LINUXAMD64)\n",
      "Info) VMD for LINUXAMD64, version 1.9.3 (November 30, 2016)\n",
      "Info) http://www.ks.uiuc.edu/Research/vmd/                         \n",
      "Info) Email questions and bug reports to vmd@ks.uiuc.edu           \n",
      "Info) Please include this reference in published work using VMD:   \n",
      "Info)    Humphrey, W., Dalke, A. and Schulten, K., `VMD - Visual   \n",
      "Info)    Molecular Dynamics', J. Molec. Graphics 1996, 14.1, 33-38.\n",
      "Info) -------------------------------------------------------------\n",
      "Info) Multithreading available, 8 CPUs detected.\n",
      "Info)   CPU features: SSE2 AVX AVX2 FMA \n",
      "Info) Free system memory: 11GB (71%)\n",
      "Info) Creating CUDA device pool and initializing hardware...\n",
      "Info) Detected 1 available CUDA accelerator:\n",
      "Info) [0] GeForce GTX 760     6 SM_3.0 @ 1.07 GHz, 1.9GB RAM, KTO, AE1, ZCP\n",
      "Warning) Detected X11 'Composite' extension: if incorrect display occurs\n",
      "Warning) try disabling this X server option.  Most OpenGL drivers\n",
      "Warning) disable stereoscopic display when 'Composite' is enabled.\n",
      "Info) OpenGL renderer: GeForce GTX 760/PCIe/SSE2\n",
      "Info)   Features: STENCIL MSAA(4) MDE CVA MTX NPOT PP PS GLSL(OVFGS) \n",
      "Info)   Full GLSL rendering mode is available.\n",
      "Info)   Textures: 2-D (16384x16384), 3-D (2048x2048x2048), Multitexture (4)\n",
      "Info) Detected 1 available TachyonL/OptiX ray tracing accelerator\n",
      "Info)   Compiling 1 OptiX shaders on 1 target GPU...\n",
      "Info) Dynamically loaded 2 plugins in directory:\n",
      "Info) /usr/local/lib/vmd/plugins/LINUXAMD64/molfile\n",
      "Info) File loading in progress, please wait.\n",
      "Info) Using plugin gro for structure file visualization/dna-centered.gro\n",
      "Info) Using plugin gro for coordinates from file visualization/dna-centered.gro\n",
      "Info) Determining bond structure from distance search ...\n",
      "Info) Finished with coordinate file visualization/dna-centered.gro.\n",
      "Info) Analyzing structure ...\n",
      "Info)    Atoms: 9365\n",
      "Info)    Bonds: 6735\n",
      "Info)    Angles: 0  Dihedrals: 0  Impropers: 0  Cross-terms: 0\n",
      "Info)    Bondtypes: 0  Angletypes: 0  Dihedraltypes: 0  Impropertypes: 0\n",
      "Info)    Residues: 2770\n",
      "Info)    Waters: 2688\n",
      "Warning) Unusual bond between residues:  1 (nucleic) and 20 (none)\n",
      "Warning) Unusual bond between residues:  21 (nucleic) and 40 (none)\n",
      "Info)    Segments: 1\n",
      "Info)    Fragments: 2730   Protein: 0   Nucleic: 2\n",
      "vmd > 0\n",
      "23\n",
      "1\n",
      "7\n",
      "16\n",
      "2\n",
      "6\n",
      "8\n",
      "27\n",
      "2\n",
      "6\n",
      "7\n",
      "0\n",
      "0\n",
      "1\n",
      "2\n",
      "3\n",
      "4\n",
      "Info) VMD for LINUXAMD64, version 1.9.3 (November 30, 2016)\n",
      "Info) Exiting normally.\n"
     ]
    }
   ],
   "source": [
    "!vmd visualization/dna-centered.gro -e visualization/representation.tcl"
   ]
  },
  {
   "cell_type": "markdown",
   "metadata": {},
   "source": [
    "Rotate the structure and look for the two (nitrogen) atoms in green. The distance between these will serve as our RC for that base pair. Now quit VMD (in the *VMD Main* window: *File*>*Quit*)\n",
    "\n",
    "## The MD parameter (.mdp) file \n",
    "Here we assume we have already built and equilibrated the system, i.e. we are almost ready to go, we basically just need to add some extra parameters in the mdp file to use AWH. Go to and check out the directory that has all the run files of our first AWH example:"
   ]
  },
  {
   "cell_type": "code",
   "execution_count": 14,
   "metadata": {},
   "outputs": [
    {
     "name": "stdout",
     "output_type": "stream",
     "text": [
      "[Errno 2] No such file or directory: 'awh-1d'\n",
      "/home/viveca/awh-tutorial/dna-base-pair-opening/awh-1d\n",
      "total 744\n",
      "lrwxrwxrwx 1 viveca ipausers     31 May 25 14:40 amber99bsc1.ff -> ../template-npt/amber99bsc1.ff/\n",
      "lrwxrwxrwx 1 viveca ipausers     24 May 25 14:40 conf.gro -> ../template-npt/conf.gro\n",
      "-rw-r--r-- 1 viveca ipausers   3005 May 25 14:42 grompp.mdp\n",
      "-rw-r--r-- 1 viveca ipausers 181632 May 22 13:39 index.ndx\n",
      "-rw-r--r-- 1 viveca ipausers  14025 May 25 14:43 mdout.mdp\n",
      "lrwxrwxrwx 1 viveca ipausers     25 May 25 14:40 topol.top -> ../template-npt/topol.top\n",
      "-rw-r--r-- 1 viveca ipausers 554072 May 25 14:43 topol.tpr\n",
      "/home/viveca/awh-tutorial/dna-base-pair-opening/awh-1d\n"
     ]
    }
   ],
   "source": [
    "%cd awh-1d\n",
    "!ls -l\n",
    "!pwd"
   ]
  },
  {
   "cell_type": "markdown",
   "metadata": {},
   "source": [
    "Find the differences between this mdp file for AWH and an mdp file for a vanilla MD simulation:"
   ]
  },
  {
   "cell_type": "code",
   "execution_count": 8,
   "metadata": {},
   "outputs": [
    {
     "name": "stdout",
     "output_type": "stream",
     "text": [
      "3c3\r\n",
      "< nsteps                   = 25000000\r\n",
      "---\r\n",
      "> nsteps                   = 100000000\r\n",
      "35a36,59\r\n",
      "> \r\n",
      "> pull                     = yes                 # The reaction coordinate (RC) is defined using pull coordinates.\r\n",
      "> pull-ngroups             = 2                   # The number of atom groups needed to define the pull coordinate.\r\n",
      "> pull-ncoords             = 1                   # Number of pull coordinates.\r\n",
      "> pull-nstxout             = 5000                # Step interval to output the coordinate values to the pullx.xvg file.\r\n",
      "> pull-nstfout             = 0                   # Step interval to output the applied force, skip this output here.\r\n",
      "> \t\t\t\t\t       \r\n",
      "> pull-group1-name         = base_N1orN3         # Name of pull group 1 corresponding to an entry in an index file.\r\n",
      "> pull-group2-name         = partner_N1orN3      # Same, but for group 2.\r\n",
      "> \t\t\t\t\t       \r\n",
      "> pull-coord1-groups       = 1 2                 # Which groups define coordinate 1? Here, groups 1 and 2.\r\n",
      "> pull-coord1-geometry     = distance            # How is the coordinate defined from these groups? Here by the center of mass distance.\r\n",
      "> pull-coord1-type         = external-potential  # How should the bias be applied to the coordinate? Here by an external module.\r\n",
      "> pull-coord1-potential-provider = AWH           # The external module is called AWH!\r\n",
      "> \r\n",
      "> awh                      = yes                 # AWH on.\r\n",
      "> awh-nstout               = 50000               # Step interval for writing awh*.xvg files with PMF/histogram data.\r\n",
      "> awh-nbias                = 1                   # One bias, could have multiple.\r\n",
      "> awh1-ndim                = 1                   # Dimensionality of the RC, each dimension requires one pull coordinate.\r\n",
      "> awh1-dim1-coord-index    = 1                   # Map RC dimension to pull coordinate index (here 1-->1)\r\n",
      "> awh1-dim1-start          = 0.25                # Sampling interval min value (nm)\r\n",
      "> awh1-dim1-end            = 0.60                # Sampling interval max value (nm)\r\n",
      "> awh1-dim1-force-constant = 128000              # Force constant of the harmonic potential (kJ/(mol*nm^2))\r\n",
      "> awh1-dim1-diffusion      = 5e-5                # Estimate of the diffusion (nm^2/ps)\r\n"
     ]
    }
   ],
   "source": [
    "!diff ../template-npt/grompp.mdp grompp.mdp"
   ]
  },
  {
   "cell_type": "markdown",
   "metadata": {},
   "source": [
    "Here '<' refers to the content of the first argument to `diff` (NPT mdp) and '>' to the second (AWH mdp). So, e.g., we increased the number of steps (`nsteps`) for AWH. The more relevant parameters are the ones prefixed `pull` and `awh`. What do these parameters mean? Click here to Google for [\"gromacs documentation\"](http://www.google.com/search?q=gromacs+documentation). Hint: we are using GROMACS 2018 and we are interested in \"Molecular dynamic parameters (.mdp options)\". But the comments I put in the mdp file should be enough here."
   ]
  },
  {
   "cell_type": "markdown",
   "metadata": {},
   "source": [
    "## The index (.ndx) file\n",
    "We saw that the .mdp file now depends on some definitions of atom groups; we need to have an index file for these. Here our groups are as simple as they get: each group contains a single nitrogen atom. But don't get tempted to edit an index file manually! The traditional tool to use is `gmx make_ndx` and a more general and powerful tool is `gmx select`. We focus on AWH here and provide the index file, and leave the index file generation as an [exercise](#sec:make-index). Let's double-check that the groups in the .mdp file are actually defined:\n"
   ]
  },
  {
   "cell_type": "code",
   "execution_count": 10,
   "metadata": {},
   "outputs": [
    {
     "name": "stdout",
     "output_type": "stream",
     "text": [
      "[ base_N1orN3 ]\r\n",
      " 338 \r\n",
      "--\r\n",
      "[ partner_N1orN3 ]\r\n",
      " 936 \r\n"
     ]
    }
   ],
   "source": [
    "!grep -A 1  N1orN3  index.ndx  # '-A 1' to show also 1 line after the match "
   ]
  },
  {
   "cell_type": "markdown",
   "metadata": {},
   "source": [
    "One atom per group looks right. In a real study, a better check would be to visualize these atom indices (e.g. with VMD)."
   ]
  },
  {
   "cell_type": "markdown",
   "metadata": {},
   "source": [
    "## Starting and analyzing the simulation\n",
    "Now generate the tpr as usual with `grompp` (assuming default naming of input files grompp.mdp, conf.gro, topol.top, index.ndx) "
   ]
  },
  {
   "cell_type": "code",
   "execution_count": 18,
   "metadata": {},
   "outputs": [
    {
     "name": "stdout",
     "output_type": "stream",
     "text": [
      "Replacing old mdp entry 'nstxtcout' by 'nstxout-compressed'\n",
      "Setting the AWH bias MC random seed to -310591473\n",
      "Setting the LD random seed to -745771594\n",
      "Generated 2485 of the 2485 non-bonded parameter combinations\n",
      "Generating 1-4 interactions: fudge = 0.5\n",
      "Generated 2485 of the 2485 1-4 parameter combinations\n",
      "Excluding 3 bonded neighbours molecule type 'DNA_chain_A'\n",
      "turning H bonds into constraints...\n",
      "Excluding 3 bonded neighbours molecule type 'DNA_chain_B'\n",
      "turning H bonds into constraints...\n",
      "Excluding 2 bonded neighbours molecule type 'SOL'\n",
      "turning H bonds into constraints...\n",
      "Excluding 1 bonded neighbours molecule type 'NA'\n",
      "turning H bonds into constraints...\n",
      "Removing all charge groups because cutoff-scheme=Verlet\n",
      "Pull group 1 'base_N1orN3' has 1 atoms\n",
      "Pull group 2 'partner_N1orN3' has 1 atoms\n",
      "Number of degrees of freedom in T-Coupling group System is 19587.00\n",
      "Determining Verlet buffer for a tolerance of 0.005 kJ/mol/ps at 300 K\n",
      "Calculated rlist for 1x1 atom pair-list as 1.034 nm, buffer size 0.034 nm\n",
      "Set rlist, assuming 4x4 atom pair-list, to 1.000 nm, buffer size 0.000 nm\n",
      "Note that mdrun will redetermine rlist based on the actual pair-list setup\n",
      "Calculating fourier grid dimensions for X Y Z\n",
      "Using a fourier grid of 36x36x56, spacing 0.112 0.112 0.115\n",
      "Pull group  natoms  pbc atom  distance at start  reference at t=0\n",
      "       1         1         0\n",
      "       2         1         0       0.304 nm          0.000 nm\n",
      "Estimate for the relative computational load of the PME mesh part: 0.25\n",
      "This run will generate roughly 12 Mb of data\n",
      "\n",
      "Back Off! I just backed up topol.tpr to ./#topol.tpr.3#\n"
     ]
    }
   ],
   "source": [
    "!gmx grompp -n -quiet"
   ]
  },
  {
   "cell_type": "markdown",
   "metadata": {},
   "source": [
    "Note that the values of the pull coordinate values in the provided .gro file are printed by grompp. Does it look reasonable? Now assume we have run a simulation. Some information related to the AWH initial convergence can be found in the `mdrun` log file."
   ]
  },
  {
   "cell_type": "code",
   "execution_count": null,
   "metadata": {},
   "outputs": [],
   "source": []
  },
  {
   "cell_type": "code",
   "execution_count": 24,
   "metadata": {
    "scrolled": true
   },
   "outputs": [
    {
     "name": "stdout",
     "output_type": "stream",
     "text": [
      "awh1: covering at t = 1243.8 ps. Decreased the update size.\n",
      "awh1: covering at t = 1530 ps. Decreased the update size.\n",
      "awh1: out of the initial stage at t = 1530.\n"
     ]
    }
   ],
   "source": [
    "!grep 'covering' data/md.log\n",
    "!grep 'out of the' data/md.log"
   ]
  },
  {
   "cell_type": "markdown",
   "metadata": {},
   "source": [
    "After exiting the initial stage, the free energy update size will decrease steadily with time."
   ]
  },
  {
   "cell_type": "code",
   "execution_count": 29,
   "metadata": {
    "scrolled": false
   },
   "outputs": [
    {
     "name": "stdout",
     "output_type": "stream",
     "text": [
      "ls: cannot access 10: No such file or directory\r\n"
     ]
    }
   ],
   "source": [
    "a=10\n",
    "!ls {a}"
   ]
  },
  {
   "cell_type": "markdown",
   "metadata": {},
   "source": [
    "## Extracurricular: effect of changing the force constant"
   ]
  },
  {
   "cell_type": "markdown",
   "metadata": {},
   "source": [
    "## Extracurricular: effect of changing the diffusion parameter"
   ]
  },
  {
   "cell_type": "markdown",
   "metadata": {},
   "source": [
    "## Extracurricular: making an index file  with `gmx select`\n",
    "<a id='sec:make-index'></a>"
   ]
  },
  {
   "cell_type": "markdown",
   "metadata": {},
   "source": [
    "but here I'll instead show how to use the flashier and more general tool `gmx select`. Learn about it using `gmx select -h`, as for any gmx command. Alternatively, the same information canbe found in the online GROMACS docs that you hopefully found above. HereFor making and index file we need to provide either a selection file (flag `-sf`) or a selection string (`-select`)"
   ]
  },
  {
   "cell_type": "code",
   "execution_count": null,
   "metadata": {},
   "outputs": [],
   "source": [
    "!echo hello"
   ]
  },
  {
   "cell_type": "code",
   "execution_count": 7,
   "metadata": {},
   "outputs": [
    {
     "name": "stdout",
     "output_type": "stream",
     "text": [
      "total 32\r\n",
      "drwxr-xr-x 2 viveca ipausers  4096 May 25 14:43 \u001b[0m\u001b[34mawh-1d\u001b[0m/\r\n",
      "-rw-r--r-- 1 viveca ipausers 14273 May 25 14:52 awh-tutorial.ipynb\r\n",
      "drwxr-xr-x 2 viveca ipausers  4096 May 22 17:58 \u001b[34mfigs\u001b[0m/\r\n",
      "drwxr-xr-x 3 viveca ipausers  4096 May 23 10:21 \u001b[34mtemplate-npt\u001b[0m/\r\n",
      "drwxr-xr-x 2 viveca ipausers  4096 May 23 17:33 \u001b[34mvisualization\u001b[0m/\r\n"
     ]
    }
   ],
   "source": [
    "%pwd\n",
    "%ls -l"
   ]
  },
  {
   "cell_type": "code",
   "execution_count": null,
   "metadata": {},
   "outputs": [],
   "source": []
  }
 ],
 "metadata": {
  "kernelspec": {
   "display_name": "Python 2",
   "language": "python",
   "name": "python2"
  },
  "language_info": {
   "codemirror_mode": {
    "name": "ipython",
    "version": 2
   },
   "file_extension": ".py",
   "mimetype": "text/x-python",
   "name": "python",
   "nbconvert_exporter": "python",
   "pygments_lexer": "ipython2",
   "version": "2.7.15"
  }
 },
 "nbformat": 4,
 "nbformat_minor": 2
}
