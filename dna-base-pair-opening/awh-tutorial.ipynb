{
 "cells": [
  {
   "cell_type": "markdown",
   "metadata": {},
   "source": [
    "# Calculating PMFs with AWH in GROMACS\n",
    "Here we learn how to calculate the potential of mean force\n",
    "(PMF) along a reaction coordinate (RC) using the accelerated weight\n",
    "histogram method (AWH) in GROMACS.  We will go through both how to set\n",
    "up the input files needed, as well as how to extract and analyze the\n",
    "output after having run the simulation. For more information about\n",
    "the AWH method itself and how it can be used we refer to \\cite{}[TODO how cite?].\n",
    "What you need to know right now is that AWH applies a time-dependent bias\n",
    "potential along the chosen RC, which is tuned during the simulation\n",
    "such that it \"flattens\" the barriers in the PMF to improve sampling along the RC.\n",
    "With better sampling, the PMF can be calculated more accurately than using unbiased MD. [TODO Movie/figure?]\n",
    "\n",
    "*Author: Viveca Lindahl   \n",
    "Email: vivecal@kth.se*\n",
    "\n",
    "## The case study: DNA base pair opening\n",
    "We will calculate a PMF for opening a DNA base\n",
    "pair. The DNA double helix is a very stable structure. Opening a base pair\n",
    "requires breaking hydrogen bonds between the bases and crossing a high free energy\n",
    "barrier.  That's why we need to enhance the sampling by applying a bias!\n",
    "<img src=\"figs/dna-helix.png\" alt=\"dna\" style=\"height: 300px;\"/>\n",
    "As our RC we use the distance between the two atoms forming the central hydrogen-bond the two bases in a pair. Let's have a look at the system and the reaction coordinate using VMD. The `-e` flag below tells VMD to excute the commands that are in the following tcl-script. These commands change how the system is visually represented. For instance, we have hidden all the water to better see the DNA itself, and we have put punchy colors on the atoms defining the RC of our target base pair. Now run this and VMD should pop up:"
   ]
  },
  {
   "cell_type": "code",
   "execution_count": 6,
   "metadata": {
    "collapsed": true
   },
   "outputs": [
    {
     "name": "stdout",
     "output_type": "stream",
     "text": [
      "/usr/local/lib/vmd/vmd_LINUXAMD64: /usr/lib/nvidia-384/libGL.so.1: no version information available (required by /usr/local/lib/vmd/vmd_LINUXAMD64)\n",
      "Info) VMD for LINUXAMD64, version 1.9.3 (November 30, 2016)\n",
      "Info) http://www.ks.uiuc.edu/Research/vmd/                         \n",
      "Info) Email questions and bug reports to vmd@ks.uiuc.edu           \n",
      "Info) Please include this reference in published work using VMD:   \n",
      "Info)    Humphrey, W., Dalke, A. and Schulten, K., `VMD - Visual   \n",
      "Info)    Molecular Dynamics', J. Molec. Graphics 1996, 14.1, 33-38.\n",
      "Info) -------------------------------------------------------------\n",
      "Info) Multithreading available, 8 CPUs detected.\n",
      "Info)   CPU features: SSE2 AVX AVX2 FMA \n",
      "Info) Free system memory: 10GB (67%)\n",
      "Info) Creating CUDA device pool and initializing hardware...\n",
      "Info) Detected 1 available CUDA accelerator:\n",
      "Info) [0] GeForce GTX 760     6 SM_3.0 @ 1.07 GHz, 1.9GB RAM, KTO, AE1, ZCP\n",
      "Warning) Detected X11 'Composite' extension: if incorrect display occurs\n",
      "Warning) try disabling this X server option.  Most OpenGL drivers\n",
      "Warning) disable stereoscopic display when 'Composite' is enabled.\n",
      "Info) OpenGL renderer: GeForce GTX 760/PCIe/SSE2\n",
      "Info)   Features: STENCIL MSAA(4) MDE CVA MTX NPOT PP PS GLSL(OVFGS) \n",
      "Info)   Full GLSL rendering mode is available.\n",
      "Info)   Textures: 2-D (16384x16384), 3-D (2048x2048x2048), Multitexture (4)\n",
      "Info) Detected 1 available TachyonL/OptiX ray tracing accelerator\n",
      "Info)   Compiling 1 OptiX shaders on 1 target GPU...\n",
      "Info) Dynamically loaded 2 plugins in directory:\n",
      "Info) /usr/local/lib/vmd/plugins/LINUXAMD64/molfile\n",
      "Info) File loading in progress, please wait.\n",
      "Info) Using plugin gro for structure file visualization/dna-centered.gro\n",
      "Info) Using plugin gro for coordinates from file visualization/dna-centered.gro\n",
      "Info) Determining bond structure from distance search ...\n",
      "Info) Finished with coordinate file visualization/dna-centered.gro.\n",
      "Info) Analyzing structure ...\n",
      "Info)    Atoms: 9365\n",
      "Info)    Bonds: 6735\n",
      "Info)    Angles: 0  Dihedrals: 0  Impropers: 0  Cross-terms: 0\n",
      "Info)    Bondtypes: 0  Angletypes: 0  Dihedraltypes: 0  Impropertypes: 0\n",
      "Info)    Residues: 2770\n",
      "Info)    Waters: 2688\n",
      "Warning) Unusual bond between residues:  1 (nucleic) and 20 (none)\n",
      "Warning) Unusual bond between residues:  21 (nucleic) and 40 (none)\n",
      "Info)    Segments: 1\n",
      "Info)    Fragments: 2730   Protein: 0   Nucleic: 2\n",
      "vmd > 0\n",
      "23\n",
      "1\n",
      "7\n",
      "16\n",
      "2\n",
      "6\n",
      "8\n",
      "27\n",
      "2\n",
      "6\n",
      "7\n",
      "0\n",
      "0\n",
      "1\n",
      "2\n",
      "3\n",
      "4\n",
      "Type 'user add key a {my VMD commands...}' to use this key\n",
      "Type 'user add key Left {my VMD commands...}' to use this key\n",
      "Type 'user add key Left {my VMD commands...}' to use this key\n",
      "Type 'user add key Left {my VMD commands...}' to use this key\n",
      "Type 'user add key Right {my VMD commands...}' to use this key\n",
      "Info) VMD for LINUXAMD64, version 1.9.3 (November 30, 2016)\n",
      "Info) Exiting normally.\n"
     ]
    }
   ],
   "source": [
    "!vmd visualization/dna-centered.gro -e visualization/representation.tcl"
   ]
  },
  {
   "cell_type": "markdown",
   "metadata": {},
   "source": [
    "Rotate the structure and look for the two (nitrogen) atoms in green. The distance between these will serve as our RC for that base pair. Now quit VMD through the \"VMD Main\" window (\"Quit\" under the \"File\" tab)\n",
    "\n",
    "## The MD parameter (.mdp) file \n",
    "Here we assume we have already built and equilibrated the system, i.e. we are almost ready to go, we basically just need to add some extra parameters in the mdp file to use AWH. Find the differences between an mdp file for a vanilla NPT simulation with an mdp file applying AWH:"
   ]
  },
  {
   "cell_type": "code",
   "execution_count": 16,
   "metadata": {
    "collapsed": true
   },
   "outputs": [
    {
     "name": "stdout",
     "output_type": "stream",
     "text": [
      "3c3\r\n",
      "< nsteps                   = 25000000\r\n",
      "---\r\n",
      "> nsteps                   = 100000000\r\n",
      "35a36,59\r\n",
      "> \r\n",
      "> pull                     = yes                 # The reaction coordinate (RC) is defined using pull coordinates.\r\n",
      "> pull-ngroups             = 2                   # The number of atom groups needed to define the pull coordinate.\r\n",
      "> pull-ncoords             = 1                   # Number of pull coordinates.\r\n",
      "> pull-nstxout             = 5000                # Step interval to output the coordinate values to the pullx.xvg file.\r\n",
      "> pull-nstfout             = 0                   # Step interval to output the applied force, skip this output here.\r\n",
      "> \t\t\t\t\t       \r\n",
      "> pull-group1-name         = base_N1orN3         # Name of pull group 1 corresponding to an entry in an index file.\r\n",
      "> pull-group2-name         = partner_N1orN3      # Same, but for group 2.\r\n",
      "> \t\t\t\t\t       \r\n",
      "> pull-coord1-groups       = 1 2                 # Which groups define coordinate 1? Here, groups 1 and 2.\r\n",
      "> pull-coord1-geometry     = distance            # How is the coordinate defined from these groups? Here by the center of mass distance.\r\n",
      "> pull-coord1-type         = external-potential  # How should the bias be applied to the coordinate? Here by an external module.\r\n",
      "> pull-coord1-potential-provider = AWH           # The external module is called AWH!\r\n",
      "> \r\n",
      "> awh                      = yes                 # AWH on.\r\n",
      "> awh-nstout               = 50000               # Step interval for writing awh*.xvg files with PMF/histogram data.\r\n",
      "> awh-nbias                = 1                   # One bias, could have multiple.\r\n",
      "> awh1-ndim                = 1                   # Dimensionality of the RC, each dimension requires one pull coordinate.\r\n",
      "> awh1-dim1-coord-index    = 1                   # Map RC dimension to pull coordinate index (here 1-->1)\r\n",
      "> awh1-dim1-start          = 0.25                # Sampling interval min value (nm)\r\n",
      "> awh1-dim1-end            = 0.60                # Sampling interval max value (nm)\r\n",
      "> awh1-dim1-force-constant = 128000              # Force constant of the harmonic potential (kJ/(mol*nm^2))\r\n",
      "> awh1-dim1-diffusion      = 5e-5                # Estimate of the diffusion (nm^2/ps)\r\n"
     ]
    }
   ],
   "source": [
    "!diff template-npt/grompp.mdp awh-1d/grompp.mdp"
   ]
  },
  {
   "cell_type": "markdown",
   "metadata": {},
   "source": [
    "Here '<' refers to the content of the first argument to `diff` (NPT mdp) and '>' to the second (AWH mdp). The relevant things. So, e.g., we increased the number of steps (`nsteps`) for AWH. The more relevant parameters are the ones prefixed `pull` and `awh`. What do these parameters mean? Click here to Google for [\"gromacs documentation\"](http://www.google.com/search?q=gromacs+documentation). Hint: we are using GROMACS 2018 and we are interested in \"Molecular dynamic parameters (.mdp options)\". But the comments I put in the mdp file should be enough here."
   ]
  },
  {
   "cell_type": "markdown",
   "metadata": {},
   "source": [
    "## The index (.ndx) file\n",
    "We saw in the .mdp file that it now depends on some atom group definitions. This is exactly what an index files contains! Here our groups are as simple as they get: each group contains a single nitrogen atom. But we should not get tempted to edit an index file manually, no! The simple, traditional tool to use is `gmx make_ndx`, check out the documentation if you want:"
   ]
  },
  {
   "cell_type": "code",
   "execution_count": 23,
   "metadata": {
    "collapsed": true
   },
   "outputs": [
    {
     "name": "stdout",
     "output_type": "stream",
     "text": [
      "SYNOPSIS\r\n",
      "\r\n",
      "gmx make_ndx [-f [<.gro/.g96/...>]] [-n [<.ndx> [...]]] [-o [<.ndx>]]\r\n",
      "             [-natoms <int>] [-[no]twin]\r\n",
      "\r\n",
      "DESCRIPTION\r\n",
      "\r\n",
      "Index groups are necessary for almost every GROMACS program. All these\r\n",
      "programs can generate default index groups. You ONLY have to use gmx make_ndx\r\n",
      "when you need SPECIAL index groups. There is a default index group for the\r\n",
      "whole system, 9 default index groups for proteins, and a default index group\r\n",
      "is generated for every other residue name.\r\n",
      "\r\n",
      "When no index file is supplied, also gmx make_ndx will generate the default\r\n",
      "groups. With the index editor you can select on atom, residue and chain names\r\n",
      "and numbers. When a run input file is supplied you can also select on atom\r\n",
      "type. You can use boolean operations, you can split groups into chains,\r\n",
      "residues or atoms. You can delete and rename groups. Type 'h' in the editor\r\n",
      "for more details.\r\n",
      "\r\n",
      "The atom numbering in the editor and the index file starts at 1.\r\n",
      "\r\n",
      "The -twin switch duplicates all index groups with an offset of -natoms, which\r\n",
      "is useful for Computational Electrophysiology double-layer membrane setups.\r\n",
      "\r\n",
      "See also gmx select -on, which provides an alternative way for constructing\r\n",
      "index groups.  It covers nearly all of gmx make_ndx functionality, and in many\r\n",
      "cases much more.\r\n",
      "\r\n",
      "OPTIONS\r\n",
      "\r\n",
      "Options to specify input files:\r\n",
      "\r\n",
      " -f      [<.gro/.g96/...>]  (conf.gro)       (Opt.)\r\n",
      "           Structure file: gro g96 pdb brk ent esp tpr\r\n",
      " -n      [<.ndx> [...]]     (index.ndx)      (Opt.)\r\n",
      "           Index file\r\n",
      "\r\n",
      "Options to specify output files:\r\n",
      "\r\n",
      " -o      [<.ndx>]           (index.ndx)\r\n",
      "           Index file\r\n",
      "\r\n",
      "Other options:\r\n",
      "\r\n",
      " -natoms <int>              (0)\r\n",
      "           set number of atoms (default: read from coordinate or index file)\r\n",
      " -[no]twin                  (no)\r\n",
      "           Duplicate all index groups with an offset of -natoms\r\n"
     ]
    }
   ],
   "source": [
    "!gmx make_ndx -h -quiet"
   ]
  },
  {
   "cell_type": "markdown",
   "metadata": {},
   "source": [
    "but here I'll instead show how to use the flashier and more general tool `gmx select`. Learn about it using `gmx select -h`, as for any gmx command. Alternatively, the same information canbe found in the online GROMACS docs that you hopefully found above. For making and index file we need to provide either a selection file (flag `-sf`) or a selection string (`-select`)"
   ]
  },
  {
   "cell_type": "code",
   "execution_count": 27,
   "metadata": {},
   "outputs": [
    {
     "name": "stdout",
     "output_type": "stream",
     "text": [
      "SYNOPSIS\r\n",
      "\r\n",
      "gmx select [-f [<.xtc/.trr/...>]] [-s [<.tpr/.gro/...>]] [-n [<.ndx>]]\r\n",
      "           [-os [<.xvg>]] [-oc [<.xvg>]] [-oi [<.dat>]] [-on [<.ndx>]]\r\n",
      "           [-om [<.xvg>]] [-of [<.xvg>]] [-ofpdb [<.pdb>]] [-olt [<.xvg>]]\r\n",
      "           [-b <time>] [-e <time>] [-dt <time>] [-tu <enum>]\r\n",
      "           [-fgroup <selection>] [-xvg <enum>] [-[no]rmpbc] [-[no]pbc]\r\n",
      "           [-sf <file>] [-selrpos <enum>] [-seltype <enum>]\r\n",
      "           [-select <selection>] [-[no]norm] [-[no]cfnorm] [-resnr <enum>]\r\n",
      "           [-pdbatoms <enum>] [-[no]cumlt]\r\n",
      "\r\n",
      "DESCRIPTION\r\n",
      "\r\n",
      "gmx select writes out basic data about dynamic selections. It can be used for\r\n",
      "some simple analyses, or the output can be combined with output from other\r\n",
      "programs and/or external analysis programs to calculate more complex things.\r\n",
      "For detailed help on the selection syntax, please use gmx help selections.\r\n",
      "\r\n",
      "Any combination of the output options is possible, but note that -om only\r\n",
      "operates on the first selection. Also note that if you provide no output\r\n",
      "options, no output is produced.\r\n",
      "\r\n",
      "With -os, calculates the number of positions in each selection for each frame.\r\n",
      "With -norm, the output is between 0 and 1 and describes the fraction from the\r\n",
      "maximum number of positions (e.g., for selection 'resname RA and x < 5' the\r\n",
      "maximum number of positions is the number of atoms in RA residues). With\r\n",
      "-cfnorm, the output is divided by the fraction covered by the selection. -norm\r\n",
      "and -cfnorm can be specified independently of one another.\r\n",
      "\r\n",
      "With -oc, the fraction covered by each selection is written out as a function\r\n"
     ]
    }
   ],
   "source": [
    "!gmx select -h -quiet | head -n 30"
   ]
  },
  {
   "cell_type": "markdown",
   "metadata": {},
   "source": [
    "## Extra-curricular 1: effect of changing the force constant"
   ]
  },
  {
   "cell_type": "markdown",
   "metadata": {},
   "source": [
    "## Extra-curricular 2: effect of changing the diffusion parameter"
   ]
  }
 ],
 "metadata": {
  "kernelspec": {
   "display_name": "Python 2",
   "language": "python",
   "name": "python2"
  },
  "language_info": {
   "codemirror_mode": {
    "name": "ipython",
    "version": 2
   },
   "file_extension": ".py",
   "mimetype": "text/x-python",
   "name": "python",
   "nbconvert_exporter": "python",
   "pygments_lexer": "ipython2",
   "version": "2.7.15"
  }
 },
 "nbformat": 4,
 "nbformat_minor": 2
}
